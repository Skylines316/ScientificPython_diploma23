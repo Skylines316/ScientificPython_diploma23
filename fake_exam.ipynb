{
 "cells": [
  {
   "cell_type": "markdown",
   "id": "50f40fbb-7263-4005-ad72-822ab5498d41",
   "metadata": {},
   "source": [
    "**Little questions that I would have asked if we had an oral exam:**\n",
    "(meaning that you shouldn't read or google or think for more than 5 seconds to answer them)\n",
    "\n",
    " - How do you create markdown cell in Jupyter? (with keyboard commands)\n",
    " - How do you add a cell above the current one in Jupyter (with keyboard command)? \n",
    " - What does it mean that variables are dynamically typed in python?\n",
    " - What's the difference between python and Fortran integers?\n",
    " - Explain the difference between lists, sets and tuples in python.\n",
    " - What does negative index mean when accessing list elements?\n",
    " - How do you print the first N elements of a list?\n",
    " - How do you print every Nth element of a list?\n",
    " - How do you print the reverse list?\n",
    " - Give an example of a list comprehension.\n",
    " - Give an example of cell and line magic commands in Jupyter.\n",
    " - What are keyword function arguments in python and what is their advantage?\n",
    " - Why shouldn't you do from numpy import *?\n",
    " - What is the advantage of using numpy arrays over lists? What are the dangers?\n",
    " - What's the purpose of __str__ method in a python class?\n",
    " - What package can you use in python for symbolic calculations?\n",
    "\n"
   ]
  },
  {
   "cell_type": "markdown",
   "id": "83c1f234-b71f-40fd-a55e-4af85dc6b142",
   "metadata": {},
   "source": [
    "### **Problem1:**\n",
    "\n",
    "Write a function that calculates the first N [Fibonacci numbers](https://en.wikipedia.org/wiki/Fibonacci_number)."
   ]
  },
  {
   "cell_type": "code",
   "execution_count": 6,
   "id": "7c5561b1-7d40-4157-b3fb-89c1c9ab8956",
   "metadata": {},
   "outputs": [
    {
     "data": {
      "text/plain": [
       "[1, 1, 2, 3, 5, 8, 13]"
      ]
     },
     "execution_count": 6,
     "metadata": {},
     "output_type": "execute_result"
    }
   ],
   "source": [
    "def fibonacci(n):\n",
    "  a=[1,1]\n",
    "  while len(a)<n:\n",
    "    a.append(a[-1]+a[-2])\n",
    "  return a\n",
    "fibonacci(7)\n",
    "    "
   ]
  },
  {
   "cell_type": "markdown",
   "id": "7f5e1222-ff80-4c66-b304-b6a8200cde1f",
   "metadata": {},
   "source": [
    "### **Problem2:**\n",
    "\n",
    "Generate random data for 2D points coordinates. Write a function that plots them with different colors for each 90 degree section with the origin in the center. This problem should be coded as a class, i.e. you should be able to execute the code:\n",
    "\n",
    "```\n",
    "pr=Problem2()\n",
    "pr.generate()\n",
    "pr.display()\n",
    "```"
   ]
  },
  {
   "cell_type": "code",
   "execution_count": 28,
   "id": "7aba5b59-d2e6-4dd4-92d6-0cc36c6294b3",
   "metadata": {},
   "outputs": [
    {
     "data": {
      "image/png": "[encoded data removed]",
      "text/plain": [
       "<Figure size 640x480 with 1 Axes>"
      ]
     },
     "metadata": {},
     "output_type": "display_data"
    }
   ],
   "source": [
    "import numpy as np\n",
    "import matplotlib.pyplot as plt\n",
    "class Problem2():\n",
    "  def generate(self):\n",
    "    self.b=np.array([np.random.rand(2)*2-1 for i in range(100)])\n",
    "    return b\n",
    "  def display(self):\n",
    "    for i in self.b:\n",
    "      if i[0]>0 and i[1]>0:\n",
    "        plt.plot(i[0],i[1],marker=\"*\",color='red')\n",
    "      elif i[0]<0 and i[1]>0:\n",
    "        plt.plot(i[0],i[1],marker=\"*\",color='blue')\n",
    "      elif i[0]<0 and i[1]<0:\n",
    "        plt.plot(i[0],i[1],marker=\"*\",color='orange')\n",
    "      elif i[0]>0 and i[1]<0:\n",
    "        plt.plot(i[0],i[1],marker=\"*\",color='black')\n",
    "\n",
    "pr = Problem2()\n",
    "pr.generate()\n",
    "pr.display()\n"
   ]
  },
  {
   "cell_type": "markdown",
   "id": "d86d921a-3868-42b6-bfa6-bf9a0ee4b7aa",
   "metadata": {},
   "source": [
    "### **Problem3:**\n",
    "\n",
    "Write a decorator that calls a function twice."
   ]
  },
  {
   "cell_type": "code",
   "execution_count": 29,
   "id": "85e68593-d2c0-4f0d-bb39-1333e125c55a",
   "metadata": {},
   "outputs": [
    {
     "name": "stdout",
     "output_type": "stream",
     "text": [
      "Allowed\n",
      "Allowed\n"
     ]
    }
   ],
   "source": [
    "def check(func):\n",
    "    def change(*args, **kwargs):\n",
    "      func(*args, **kwargs)\n",
    "      func(*args, **kwargs)\n",
    "    return change\n",
    "\n",
    "@check\n",
    "def my_f():\n",
    "  print('Allowed')\n",
    "my_f()"
   ]
  },
  {
   "cell_type": "code",
   "execution_count": null,
   "id": "c12c0900-796f-4947-b9f6-ac3c7ad70df2",
   "metadata": {},
   "outputs": [],
   "source": []
  }
 ],
 "metadata": {
  "kernelspec": {
   "display_name": "Python 3 (ipykernel)",
   "language": "python",
   "name": "python3"
  },
  "language_info": {
   "codemirror_mode": {
    "name": "ipython",
    "version": 3
   },
   "file_extension": ".py",
   "mimetype": "text/x-python",
   "name": "python",
   "nbconvert_exporter": "python",
   "pygments_lexer": "ipython3",
   "version": "3.9.13"
  }
 },
 "nbformat": 4,
 "nbformat_minor": 5
}
