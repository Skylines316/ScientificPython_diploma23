{
 "cells": [
  {
   "cell_type": "markdown",
   "metadata": {},
   "source": [
    "### **Exercise1:**\n",
    "\n",
    "Create a function returning the first N terms of the taylor series of the function without using the sympy `series` function."
   ]
  },
  {
   "cell_type": "code",
   "execution_count": 2,
   "metadata": {},
   "outputs": [
    {
     "data": {
      "text/latex": [
       "$\\displaystyle - 0.166666666666667 x^{3} + 1.0 x$"
      ],
      "text/plain": [
       "-0.166666666666667*x**3 + 1.0*x"
      ]
     },
     "execution_count": 2,
     "metadata": {},
     "output_type": "execute_result"
    }
   ],
   "source": [
    "import sympy as sp\n",
    "\n",
    "x, y = sp.symbols('x y')\n",
    "\n",
    "def der(f,x0:float,n:int):\n",
    "  if n == 1:\n",
    "    return sp.diff(f,x).evalf(subs={x:x0})\n",
    "  else:\n",
    "    return der(sp.diff(f,x),x0,n-1).evalf(subs={x:x0})\n",
    "\n",
    "def tay_ser(f,x0:float,n:int):\n",
    "  fac = f.evalf(subs={x:x0})\n",
    "  for i in range(1,n+1):\n",
    "    fac = fac + der(f,x0,i)*(x-x0)**(i)/sp.factorial(i)\n",
    "  return fac\n",
    "a=tay_ser(sp.sin(x),0,3)\n",
    "a"
   ]
  },
  {
   "cell_type": "markdown",
   "metadata": {},
   "source": [
    "### **Exercise2:**"
   ]
  },
  {
   "cell_type": "markdown",
   "metadata": {},
   "source": [
    "Create a decorator that checks if the passed array is empty and only calls the function if it's not"
   ]
  },
  {
   "cell_type": "code",
   "execution_count": 3,
   "metadata": {},
   "outputs": [
    {
     "name": "stdout",
     "output_type": "stream",
     "text": [
      "Not allowed\n"
     ]
    }
   ],
   "source": [
    "x=[]\n",
    "def check(func):\n",
    "    def change(*args, **kwargs):\n",
    "      if len(args[0]) == 0:\n",
    "        return \"Not allowed\"\n",
    "      else:\n",
    "        return func(*args, **kwargs)\n",
    "    return change\n",
    "\n",
    "@check\n",
    "def my_f(x):\n",
    "  print('Allowed')\n",
    "  return 7*x\n",
    "print(my_f(x))\n"
   ]
  },
  {
   "cell_type": "markdown",
   "metadata": {},
   "source": [
    "### **Exercise3:**"
   ]
  },
  {
   "cell_type": "markdown",
   "metadata": {},
   "source": [
    "Create a decorator to time a function execution time. Hint: use `import time` and `time_point=time.time()`. You can check if it's correct by timing the `time.sleep` function."
   ]
  },
  {
   "cell_type": "code",
   "execution_count": 4,
   "metadata": {},
   "outputs": [
    {
     "name": "stdout",
     "output_type": "stream",
     "text": [
      "Allowed\n",
      "5.006098985671997\n"
     ]
    }
   ],
   "source": [
    "import time as tm\n",
    "def execute_time(func):\n",
    "    def measure(*args, **kwargs):\n",
    "      start = tm.time()\n",
    "      func(*args, **kwargs)\n",
    "      end = tm.time()\n",
    "      print(end-start)\n",
    "    return measure\n",
    "\n",
    "@execute_time\n",
    "def my_funnc(x):\n",
    "  print('Allowed')\n",
    "  tm.sleep(5)\n",
    "  return 7*x\n",
    "\n",
    "my_funnc([4])"
   ]
  },
  {
   "cell_type": "code",
   "execution_count": null,
   "metadata": {},
   "outputs": [],
   "source": []
  }
 ],
 "metadata": {
  "kernelspec": {
   "display_name": "Python 3 (ipykernel)",
   "language": "python",
   "name": "python3"
  },
  "language_info": {
   "codemirror_mode": {
    "name": "ipython",
    "version": 3
   },
   "file_extension": ".py",
   "mimetype": "text/x-python",
   "name": "python",
   "nbconvert_exporter": "python",
   "pygments_lexer": "ipython3",
   "version": "3.9.13"
  }
 },
 "nbformat": 4,
 "nbformat_minor": 4
}
