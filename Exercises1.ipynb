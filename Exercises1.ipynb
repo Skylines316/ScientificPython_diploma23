{
 "cells": [
  {
   "cell_type": "markdown",
   "metadata": {},
   "source": [
    "### **Exercise 1:**\n",
    "The Recamán sequence is a famous sequence invented by the Colombian mathematician, Bernardo Recamán Santos. It is defined by the following algorithm, starting at $a_0=0$:\n",
    "\n",
    "$ a_n=a_{n-1}−n$ if $a_{n-1}-n > 0  $ and has not already appeared in the sequence; \n",
    "\n",
    "$ a_n=a_{n−1}+n$ otherwise\n",
    "\n",
    "Write a function that returns the first N elements of this sequence."
   ]
  },
  {
   "cell_type": "code",
   "execution_count": 7,
   "metadata": {},
   "outputs": [
    {
     "name": "stdout",
     "output_type": "stream",
     "text": [
      "[0, 1, 3, 6]\n"
     ]
    }
   ],
   "source": [
    "def recaman(n):\n",
    "    a = [0]\n",
    "    for i in range(1,n-1):\n",
    "        if a[i-1]-i > 0 :\n",
    "            a.append(a[i-1]-i)\n",
    "        else:\n",
    "            a.append(a[i-1]+i)\n",
    "        pass\n",
    "    return a\n",
    "print(recaman(5))"
   ]
  },
  {
   "cell_type": "markdown",
   "metadata": {},
   "source": [
    "### **Exercise 2:**\n",
    "Write a function to solve a quadratic equation."
   ]
  },
  {
   "cell_type": "code",
   "execution_count": 11,
   "metadata": {},
   "outputs": [
    {
     "name": "stdin",
     "output_type": "stream",
     "text": [
      "Introduce the quadratic term:  1\n",
      "Introduce the linear term:  2\n",
      "Introduce the independent term:  1\n"
     ]
    },
    {
     "name": "stdout",
     "output_type": "stream",
     "text": [
      "[-1.0, -1.0]\n"
     ]
    }
   ],
   "source": [
    "import math as ma\n",
    "def quadratic(a, b, c):\n",
    "    xp = (-b + ma.sqrt(b**2-4*a*c))/(2*a)\n",
    "    xm = (-b - ma.sqrt(b**2-4*a*c))/(2*a)\n",
    "    return([xp, xm])\n",
    "a = float(input('Introduce the quadratic term: '))\n",
    "b = float(input('Introduce the linear term: '))\n",
    "c = float(input('Introduce the independent term: '))\n",
    "print(quadratic(a,b,c))"
   ]
  },
  {
   "cell_type": "markdown",
   "metadata": {},
   "source": [
    "### **Exercise 3**\n",
    "Print the list `mylist` sorted in descending order. The original list should not be modified\n"
   ]
  },
  {
   "cell_type": "code",
   "execution_count": 38,
   "metadata": {},
   "outputs": [
    {
     "name": "stdout",
     "output_type": "stream",
     "text": [
      "[234, 89, 77, 11, 1, 0, -99, -748]\n"
     ]
    }
   ],
   "source": [
    "def bubble_sort(list1):  \n",
    "    for i in range(0,len(list1)-1):  \n",
    "        for j in range(len(list1)-1):  \n",
    "            if(list1[j]>list1[j+1]):  \n",
    "                temp = list1[j]  \n",
    "                list1[j] = list1[j+1]  \n",
    "                list1[j+1] = temp  \n",
    "    return list1[::-1]\n",
    "mylist=[1,-99,89,0,234,77,-748,11]\n",
    "ordered = bubble_sort(mylist)\n",
    "print(ordered)"
   ]
  },
  {
   "cell_type": "markdown",
   "metadata": {},
   "source": [
    "### **Exercise 4:**\n",
    "Given 2 lists, produce a list containing common items between the two."
   ]
  },
  {
   "cell_type": "code",
   "execution_count": 40,
   "metadata": {},
   "outputs": [
    {
     "name": "stdout",
     "output_type": "stream",
     "text": [
      "{'e', 'a', 'i'}\n"
     ]
    }
   ],
   "source": [
    "def inters(a:list, b:list):\n",
    "    a = set(a)\n",
    "    b = set(b)\n",
    "    return a.intersection(b)\n",
    "    \n",
    "cons = ['a','b','c','d','e','f','g','h','i']\n",
    "vow = ['a','e','i','o','u']\n",
    "\n",
    "print(inters(cons,vow))\n"
   ]
  },
  {
   "cell_type": "markdown",
   "metadata": {},
   "source": [
    "### **Exercise 5:**\n",
    "Create a function that returns a list of all pairs of factors (as tuples) of a given number using list comprehension."
   ]
  },
  {
   "cell_type": "code",
   "execution_count": 43,
   "metadata": {},
   "outputs": [
    {
     "name": "stdout",
     "output_type": "stream",
     "text": [
      "[(1, 20), (2, 10), (4, 5), (5, 4), (10, 2)]\n"
     ]
    }
   ],
   "source": [
    "numb = 20\n",
    "print([(x,numb//x) for x in range(1,numb) if numb % x == 0])"
   ]
  },
  {
   "cell_type": "markdown",
   "metadata": {},
   "source": [
    "### **Exercise 6:**\n",
    "Create a list of all numbers divisible by 3 and smaller than 1000 in 4 different ways:\n",
    " \n",
    " - naive way where you just create a list and append data in a loop\n",
    " - using list comprehension\n",
    " - slicing an existing list\n",
    " - directly with `range()`\n",
    "\n",
    "Time all of them."
   ]
  },
  {
   "cell_type": "code",
   "execution_count": 47,
   "metadata": {},
   "outputs": [
    {
     "name": "stdout",
     "output_type": "stream",
     "text": [
      "[0, 3, 6, 9, 12, 15, 18, 21, 24, 27, 30, 33, 36, 39, 42, 45, 48, 51, 54, 57, 60, 63, 66, 69, 72, 75, 78, 81, 84, 87, 90, 93, 96, 99, 102, 105, 108, 111, 114, 117, 120, 123, 126, 129, 132, 135, 138, 141, 144, 147, 150, 153, 156, 159, 162, 165, 168, 171, 174, 177, 180, 183, 186, 189, 192, 195, 198, 201, 204, 207, 210, 213, 216, 219, 222, 225, 228, 231, 234, 237, 240, 243, 246, 249, 252, 255, 258, 261, 264, 267, 270, 273, 276, 279, 282, 285, 288, 291, 294, 297, 300, 303, 306, 309, 312, 315, 318, 321, 324, 327, 330, 333, 336, 339, 342, 345, 348, 351, 354, 357, 360, 363, 366, 369, 372, 375, 378, 381, 384, 387, 390, 393, 396, 399, 402, 405, 408, 411, 414, 417, 420, 423, 426, 429, 432, 435, 438, 441, 444, 447, 450, 453, 456, 459, 462, 465, 468, 471, 474, 477, 480, 483, 486, 489, 492, 495, 498, 501, 504, 507, 510, 513, 516, 519, 522, 525, 528, 531, 534, 537, 540, 543, 546, 549, 552, 555, 558, 561, 564, 567, 570, 573, 576, 579, 582, 585, 588, 591, 594, 597, 600, 603, 606, 609, 612, 615, 618, 621, 624, 627, 630, 633, 636, 639, 642, 645, 648, 651, 654, 657, 660, 663, 666, 669, 672, 675, 678, 681, 684, 687, 690, 693, 696, 699, 702, 705, 708, 711, 714, 717, 720, 723, 726, 729, 732, 735, 738, 741, 744, 747, 750, 753, 756, 759, 762, 765, 768, 771, 774, 777, 780, 783, 786, 789, 792, 795, 798, 801, 804, 807, 810, 813, 816, 819, 822, 825, 828, 831, 834, 837, 840, 843, 846, 849, 852, 855, 858, 861, 864, 867, 870, 873, 876, 879, 882, 885, 888, 891, 894, 897, 900, 903, 906, 909, 912, 915, 918, 921, 924, 927, 930, 933, 936, 939, 942, 945, 948, 951, 954, 957, 960, 963, 966, 969, 972, 975, 978, 981, 984, 987, 990, 993, 996, 999]\n",
      "[0, 3, 6, 9, 12, 15, 18, 21, 24, 27, 30, 33, 36, 39, 42, 45, 48, 51, 54, 57, 60, 63, 66, 69, 72, 75, 78, 81, 84, 87, 90, 93, 96, 99, 102, 105, 108, 111, 114, 117, 120, 123, 126, 129, 132, 135, 138, 141, 144, 147, 150, 153, 156, 159, 162, 165, 168, 171, 174, 177, 180, 183, 186, 189, 192, 195, 198, 201, 204, 207, 210, 213, 216, 219, 222, 225, 228, 231, 234, 237, 240, 243, 246, 249, 252, 255, 258, 261, 264, 267, 270, 273, 276, 279, 282, 285, 288, 291, 294, 297, 300, 303, 306, 309, 312, 315, 318, 321, 324, 327, 330, 333, 336, 339, 342, 345, 348, 351, 354, 357, 360, 363, 366, 369, 372, 375, 378, 381, 384, 387, 390, 393, 396, 399, 402, 405, 408, 411, 414, 417, 420, 423, 426, 429, 432, 435, 438, 441, 444, 447, 450, 453, 456, 459, 462, 465, 468, 471, 474, 477, 480, 483, 486, 489, 492, 495, 498, 501, 504, 507, 510, 513, 516, 519, 522, 525, 528, 531, 534, 537, 540, 543, 546, 549, 552, 555, 558, 561, 564, 567, 570, 573, 576, 579, 582, 585, 588, 591, 594, 597, 600, 603, 606, 609, 612, 615, 618, 621, 624, 627, 630, 633, 636, 639, 642, 645, 648, 651, 654, 657, 660, 663, 666, 669, 672, 675, 678, 681, 684, 687, 690, 693, 696, 699, 702, 705, 708, 711, 714, 717, 720, 723, 726, 729, 732, 735, 738, 741, 744, 747, 750, 753, 756, 759, 762, 765, 768, 771, 774, 777, 780, 783, 786, 789, 792, 795, 798, 801, 804, 807, 810, 813, 816, 819, 822, 825, 828, 831, 834, 837, 840, 843, 846, 849, 852, 855, 858, 861, 864, 867, 870, 873, 876, 879, 882, 885, 888, 891, 894, 897, 900, 903, 906, 909, 912, 915, 918, 921, 924, 927, 930, 933, 936, 939, 942, 945, 948, 951, 954, 957, 960, 963, 966, 969, 972, 975, 978, 981, 984, 987, 990, 993, 996, 999]\n",
      "[0, 3, 6, 9, 12, 15, 18, 21, 24, 27, 30, 33, 36, 39, 42, 45, 48, 51, 54, 57, 60, 63, 66, 69, 72, 75, 78, 81, 84, 87, 90, 93, 96, 99, 102, 105, 108, 111, 114, 117, 120, 123, 126, 129, 132, 135, 138, 141, 144, 147, 150, 153, 156, 159, 162, 165, 168, 171, 174, 177, 180, 183, 186, 189, 192, 195, 198, 201, 204, 207, 210, 213, 216, 219, 222, 225, 228, 231, 234, 237, 240, 243, 246, 249, 252, 255, 258, 261, 264, 267, 270, 273, 276, 279, 282, 285, 288, 291, 294, 297, 300, 303, 306, 309, 312, 315, 318, 321, 324, 327, 330, 333, 336, 339, 342, 345, 348, 351, 354, 357, 360, 363, 366, 369, 372, 375, 378, 381, 384, 387, 390, 393, 396, 399, 402, 405, 408, 411, 414, 417, 420, 423, 426, 429, 432, 435, 438, 441, 444, 447, 450, 453, 456, 459, 462, 465, 468, 471, 474, 477, 480, 483, 486, 489, 492, 495, 498, 501, 504, 507, 510, 513, 516, 519, 522, 525, 528, 531, 534, 537, 540, 543, 546, 549, 552, 555, 558, 561, 564, 567, 570, 573, 576, 579, 582, 585, 588, 591, 594, 597, 600, 603, 606, 609, 612, 615, 618, 621, 624, 627, 630, 633, 636, 639, 642, 645, 648, 651, 654, 657, 660, 663, 666, 669, 672, 675, 678, 681, 684, 687, 690, 693, 696, 699, 702, 705, 708, 711, 714, 717, 720, 723, 726, 729, 732, 735, 738, 741, 744, 747, 750, 753, 756, 759, 762, 765, 768, 771, 774, 777, 780, 783, 786, 789, 792, 795, 798, 801, 804, 807, 810, 813, 816, 819, 822, 825, 828, 831, 834, 837, 840, 843, 846, 849, 852, 855, 858, 861, 864, 867, 870, 873, 876, 879, 882, 885, 888, 891, 894, 897, 900, 903, 906, 909, 912, 915, 918, 921, 924, 927, 930, 933, 936, 939, 942, 945, 948, 951, 954, 957, 960, 963, 966, 969, 972, 975, 978, 981, 984, 987, 990, 993, 996, 999]\n",
      "range(0, 1000, 3)\n"
     ]
    }
   ],
   "source": [
    "i=0\n",
    "li1 = []\n",
    "while i < 1000 :\n",
    "    if i%3==0 :\n",
    "        li1.append(i)\n",
    "    i+=1\n",
    "print(li1)\n",
    "print([j for j in range(1000) if j%3==0])\n",
    "initial=[]\n",
    "for i in range(1000):\n",
    "    initial.append(i)\n",
    "print(initial[0:1000:3])\n",
    "print(range(0,1000,3))"
   ]
  },
  {
   "cell_type": "markdown",
   "metadata": {},
   "source": [
    "### **Exercise 7:**\n",
    "Write a function to check if a string (containing spaces and capital letters, but no punctuation marks) is a palindrome (use help to see which functions are available for a string). \n"
   ]
  },
  {
   "cell_type": "code",
   "execution_count": 51,
   "metadata": {},
   "outputs": [
    {
     "name": "stdout",
     "output_type": "stream",
     "text": [
      "Aha\n"
     ]
    }
   ],
   "source": [
    "string = \"Sp@en e ne@pS\"\n",
    "al = []\n",
    "for i in string:\n",
    "    al.append(i)\n",
    "if al[::-1]==al :\n",
    "    print('Aha')\n",
    "else:\n",
    "    print('Nope')"
   ]
  },
  {
   "cell_type": "markdown",
   "metadata": {},
   "source": [
    "### **Exercise 8:**\n",
    "Write a function to find a character with a maximum number of occurences in a string. Return a tuple with that character and the number. You can ignore ties. Only use string's inbuilt functions and the function `max` (use help to see how to use it)."
   ]
  },
  {
   "cell_type": "code",
   "execution_count": 75,
   "metadata": {},
   "outputs": [
    {
     "name": "stdout",
     "output_type": "stream",
     "text": [
      "{'a': 3, 'l': 1, 'p': 1, 'h': 1, 'b': 1, 'e': 3, 't': 4}\n"
     ]
    },
    {
     "data": {
      "text/plain": [
       "('t', 4)"
      ]
     },
     "execution_count": 75,
     "metadata": {},
     "output_type": "execute_result"
    }
   ],
   "source": [
    "gr = 'aalphabetettet'\n",
    "let = set(gr)\n",
    "rel = dict()\n",
    "for i in gr:\n",
    "    rel[i] = 0\n",
    "    for j in gr:\n",
    "        if i==j:\n",
    "            rel[i]+=1\n",
    "print(rel)\n",
    "nume=[]\n",
    "for l in gr:\n",
    "    nume.append((l,gr.count(l)))\n",
    "max(nume)"
   ]
  },
  {
   "cell_type": "markdown",
   "metadata": {},
   "source": [
    "### **Exercise 9:**\n",
    "Write a function that return the first N prime numbers using the Sieve of Eratosphenes algorithm\n",
    "\n",
    "https://en.wikipedia.org/wiki/Sieve_of_Eratosthenes"
   ]
  },
  {
   "cell_type": "code",
   "execution_count": 111,
   "metadata": {},
   "outputs": [
    {
     "name": "stdout",
     "output_type": "stream",
     "text": [
      "[2, 3, 5, 7, 11, 13, 17, 19, 23, 29, 31, 37, 41, 43, 47, 53, 59, 61, 67, 71, 73, 79, 83, 89, 97]\n"
     ]
    }
   ],
   "source": [
    "import math as ma\n",
    "def number_primes(n):\n",
    "  data = {i:True for i in range(2,n)}\n",
    "  init = 2\n",
    "  primes = []\n",
    "  for i in range(2,int(n**(0.5))+1):\n",
    "    if data[i]:\n",
    "      for j in [i**2+x*i for x in range(n) if i**2+x*i<n]:\n",
    "        data[j]=False\n",
    "  for i in data.keys():\n",
    "    if data[i]:\n",
    "      primes.append(i)\n",
    "  return primes\n",
    "  \n",
    "print(number_primes(100))"
   ]
  },
  {
   "cell_type": "code",
   "execution_count": null,
   "metadata": {},
   "outputs": [],
   "source": []
  }
 ],
 "metadata": {
  "kernelspec": {
   "display_name": "Python 3 (ipykernel)",
   "language": "python",
   "name": "python3"
  },
  "language_info": {
   "codemirror_mode": {
    "name": "ipython",
    "version": 3
   },
   "file_extension": ".py",
   "mimetype": "text/x-python",
   "name": "python",
   "nbconvert_exporter": "python",
   "pygments_lexer": "ipython3",
   "version": "3.9.13"
  }
 },
 "nbformat": 4,
 "nbformat_minor": 4
}
