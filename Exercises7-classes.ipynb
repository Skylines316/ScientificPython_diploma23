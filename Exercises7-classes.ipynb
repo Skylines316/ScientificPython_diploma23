{
 "cells": [
  {
   "cell_type": "markdown",
   "id": "d11517f7-d25e-4ddd-8cf5-95cf809e8bb5",
   "metadata": {},
   "source": [
    "### **Exercise1:**\n",
    "\n",
    "Create a class Person that represents a person and has the following attributes:\n",
    "\n",
    " - first_name: The first name of the person.\n",
    " - last_name: The last name of the person.\n",
    " - age: The age of the person.\n",
    "\n",
    "And the following methods:\n",
    "\n",
    " - full_name: Returns the full name of the person, which is the combination of their first and last name.\n",
    " - is_adult: Returns True if the person is 18 years or older, and False otherwise.\n"
   ]
  },
  {
   "cell_type": "code",
   "execution_count": 13,
   "id": "0343384a-fbe9-4371-91e7-6f8b8f9814ba",
   "metadata": {},
   "outputs": [
    {
     "data": {
      "text/plain": [
       "True"
      ]
     },
     "execution_count": 13,
     "metadata": {},
     "output_type": "execute_result"
    }
   ],
   "source": [
    "class person():\n",
    "  def __init__(self, first_name:str, last_name:str, age: int):\n",
    "    self.f_name = first_name\n",
    "    self.l_name = last_name\n",
    "    self.age = age\n",
    "  def full_name(self) -> str:\n",
    "    return self.f_name+' '+self.l_name\n",
    "  def is_adult(self) -> bool:\n",
    "    return bool(self.age>=18)\n",
    "\n",
    "lis=person('Luis', 'Smith', 18.1)\n",
    "lis.full_name()\n",
    "lis.is_adult()"
   ]
  },
  {
   "cell_type": "markdown",
   "id": "ea29074e-7dd7-48c6-bfd9-03860cffc268",
   "metadata": {},
   "source": [
    "### **Exercise2:**\n",
    "\n",
    "Create your own class for complex numbers. Make sure all the arithmetic operations work and that you can print it. "
   ]
  },
  {
   "cell_type": "code",
   "execution_count": 29,
   "id": "55f9b2db-ad8b-46a3-811e-87daeb8348c0",
   "metadata": {},
   "outputs": [
    {
     "name": "stdout",
     "output_type": "stream",
     "text": [
      "0.0+5.0j\n"
     ]
    }
   ],
   "source": [
    "class complexn():\n",
    "  def __init__(self, real_part, imaginary_part):\n",
    "    self.re = real_part\n",
    "    self.im = imaginary_part\n",
    "    \n",
    "  def __add__(self,other):   \n",
    "    re = self.re+other.re\n",
    "    im = self.im+other.im\n",
    "    return complexn(re,im)\n",
    "  \n",
    "  def __mul__(self,other):\n",
    "    re = self.re*other.re - self.im*other.im\n",
    "    im = self.re*other.im + self.im*other.re\n",
    "    return complexn(re,im)\n",
    "  \n",
    "  def __div__(self,other):\n",
    "    re = (self.re*other.re + self.im*other.im)/(other.re**2+other.im**2)\n",
    "    im = (self.im*other.re - self.re*other.im)/(other.re**2+other.im**2)\n",
    "    return complexn(re,im)\n",
    "  \n",
    "  def __truediv__(self,other):\n",
    "    if type(other)==type(5):\n",
    "      other = complexn(other,0)\n",
    "    re = (self.re*other.re + self.im*other.im)/(other.re**2+other.im**2)\n",
    "    im = (self.im*other.re - self.re*other.im)/(other.re**2+other.im**2)\n",
    "    return complexn(re,im)\n",
    "  \n",
    "  def __rtruediv__(self,other):\n",
    "    if type(other)==type(5):\n",
    "      other = complexn(other,0)\n",
    "    re = (other.re*self.re + other.im*self.im)/(self.re**2+self.im**2)\n",
    "    im = (other.im*self.re - other.re*self.im)/(self.re**2+self.im**2)\n",
    "    return complexn(re,im)\n",
    "\n",
    "    \n",
    "  def __str__(self):\n",
    "    if self.im < 0 :\n",
    "      return \"{0}{1}j\".format(self.re, self.im)\n",
    "    else:\n",
    "      return \"{0}+{1}j\".format(self.re, self.im)\n",
    "    \n",
    "a = complexn(0,1)\n",
    "b = complexn(0,1)\n",
    "print(-5/b)"
   ]
  },
  {
   "cell_type": "markdown",
   "id": "056adf91-6ce7-45f5-b89a-fad02b9198c0",
   "metadata": {
    "tags": []
   },
   "source": [
    "### **Exercise3:**\n",
    "\n",
    "Create a \"wrapper class\" for around numpy array for operations on matrices. You should be able to execute the following code:\n",
    "\n",
    "```\n",
    "N=4\n",
    "matrix1=MyMatrix(N) #creates a square matrix\n",
    "matrix2=MyMatrix(N)\n",
    "print(matrix1.inverse())\n",
    "print(matrix1.determinant())\n",
    "print(matrix1.eigenvalues())\n",
    "print(matrix1+matrix2)\n",
    "print(matrix1*matrix2)\n",
    "```"
   ]
  },
  {
   "cell_type": "markdown",
   "id": "567e2e56-b9fa-49ff-b672-a040cc537818",
   "metadata": {},
   "source": [
    "### **Exercise4:**\n",
    "\n",
    "Write a class to \"solve\" the exercise 3 of \"exercises6\". You should be able to execute the following code:\n",
    "\n",
    "```\n",
    "solution=Exericise4()\n",
    "int1=solution.integrate_scipy()\n",
    "int2=solution.integrate_simpy()\n",
    "print(int1)\n",
    "print(int2)\n",
    "solution.display()\n",
    "```"
   ]
  },
  {
   "cell_type": "code",
   "execution_count": 38,
   "id": "c6a295d4-ab2a-45ea-a799-a35471372728",
   "metadata": {},
   "outputs": [],
   "source": [
    "import numpy as np\n",
    "\n",
    "class MyMatrix:\n",
    "    def __init__(self, N):\n",
    "      self.matrix = np.random.rand(N, N)        \n",
    "    def inverse(self):\n",
    "        return np.linalg.inv(self.matrix)\n",
    "    \n",
    "    def determinant(self):\n",
    "        return np.linalg.det(self.matrix)\n",
    "    \n",
    "    def eigenvalues(self):\n",
    "        return np.linalg.eigvals(self.matrix)\n",
    "    \n",
    "    def __add__(self, other):\n",
    "        return np.add(self.matrix,other.matrix)\n",
    "    \n",
    "    def __mul__(self, other):\n",
    "        return np.multiply(self.matrix, other.matrix)\n",
    "    \n",
    "    def __repr__(self):\n",
    "        return str(self.matrix)\n",
    "\n",
    "a=MyMatrix(4)\n",
    "b=MyMatrix(4)\n"
   ]
  },
  {
   "cell_type": "code",
   "execution_count": null,
   "id": "aaa04dc5-0cf3-4280-a7d1-3524a98f1038",
   "metadata": {},
   "outputs": [],
   "source": []
  }
 ],
 "metadata": {
  "kernelspec": {
   "display_name": "Python 3 (ipykernel)",
   "language": "python",
   "name": "python3"
  },
  "language_info": {
   "codemirror_mode": {
    "name": "ipython",
    "version": 3
   },
   "file_extension": ".py",
   "mimetype": "text/x-python",
   "name": "python",
   "nbconvert_exporter": "python",
   "pygments_lexer": "ipython3",
   "version": "3.9.13"
  }
 },
 "nbformat": 4,
 "nbformat_minor": 5
}
